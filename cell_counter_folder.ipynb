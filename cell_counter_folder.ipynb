{
 "cells": [
  {
   "cell_type": "markdown",
   "metadata": {},
   "source": [
    "# Cell Counter\n",
    "By Zoë McGinnis"
   ]
  },
  {
   "cell_type": "markdown",
   "metadata": {},
   "source": [
    "## Loading in your image\n",
    "The first thing we need to do is load in the pre-cropped image of the cell slide. Please put the image in the folder called \"originals\" and set `filename` to the name of the image you want to use. "
   ]
  },
  {
   "cell_type": "code",
   "execution_count": 1,
   "metadata": {},
   "outputs": [],
   "source": [
    "# CHANGE AS NEEDED TO SAY NAME OF THE DIRECTORY\n",
    "folder = \"originals\""
   ]
  },
  {
   "cell_type": "markdown",
   "metadata": {},
   "source": [
    "## Install libraries (only need to run once)\n",
    "Run this code block to install the libraries needed to run this program. You should only have to do this the very first time you use it."
   ]
  },
  {
   "cell_type": "code",
   "execution_count": 2,
   "metadata": {},
   "outputs": [
    {
     "name": "stdout",
     "output_type": "stream",
     "text": [
      "Requirement already satisfied: matplotlib in /home/msivanandan/anaconda3/lib/python3.8/site-packages (3.7.0)\n",
      "Requirement already satisfied: opencv-python in /home/msivanandan/anaconda3/lib/python3.8/site-packages (4.7.0.68)\n",
      "Requirement already satisfied: Pillow in /home/msivanandan/anaconda3/lib/python3.8/site-packages (9.4.0)\n",
      "Requirement already satisfied: contourpy>=1.0.1 in /home/msivanandan/anaconda3/lib/python3.8/site-packages (from matplotlib) (1.0.7)\n",
      "Requirement already satisfied: fonttools>=4.22.0 in /home/msivanandan/anaconda3/lib/python3.8/site-packages (from matplotlib) (4.38.0)\n",
      "Requirement already satisfied: python-dateutil>=2.7 in /home/msivanandan/anaconda3/lib/python3.8/site-packages (from matplotlib) (2.8.1)\n",
      "Requirement already satisfied: pyparsing>=2.3.1 in /home/msivanandan/anaconda3/lib/python3.8/site-packages (from matplotlib) (2.4.7)\n",
      "Requirement already satisfied: numpy>=1.20 in /home/msivanandan/anaconda3/lib/python3.8/site-packages (from matplotlib) (1.24.2)\n",
      "Requirement already satisfied: kiwisolver>=1.0.1 in /home/msivanandan/anaconda3/lib/python3.8/site-packages (from matplotlib) (1.2.0)\n",
      "Requirement already satisfied: importlib-resources>=3.2.0 in /home/msivanandan/anaconda3/lib/python3.8/site-packages (from matplotlib) (5.12.0)\n",
      "Requirement already satisfied: packaging>=20.0 in /home/msivanandan/anaconda3/lib/python3.8/site-packages (from matplotlib) (20.4)\n",
      "Requirement already satisfied: cycler>=0.10 in /home/msivanandan/anaconda3/lib/python3.8/site-packages (from matplotlib) (0.10.0)\n",
      "Requirement already satisfied: six in /home/msivanandan/anaconda3/lib/python3.8/site-packages (from cycler>=0.10->matplotlib) (1.15.0)\n",
      "Requirement already satisfied: zipp>=3.1.0 in /home/msivanandan/anaconda3/lib/python3.8/site-packages (from importlib-resources>=3.2.0->matplotlib) (3.1.0)\n",
      "Note: you may need to restart the kernel to use updated packages.\n"
     ]
    }
   ],
   "source": [
    "%pip install matplotlib opencv-python Pillow"
   ]
  },
  {
   "cell_type": "markdown",
   "metadata": {},
   "source": [
    "## Import necessary libraries"
   ]
  },
  {
   "cell_type": "code",
   "execution_count": 3,
   "metadata": {},
   "outputs": [],
   "source": [
    "import os\n",
    "import matplotlib.pyplot as plt\n",
    "import cv2\n",
    "from PIL import Image\n",
    "import csv"
   ]
  },
  {
   "cell_type": "markdown",
   "metadata": {},
   "source": [
    "## Process all images in the folder"
   ]
  },
  {
   "cell_type": "code",
   "execution_count": 4,
   "metadata": {},
   "outputs": [],
   "source": [
    "# Name the csv\n",
    "csv_name = \"{}.csv\".format(folder)\n",
    "# Open the file in the write mode\n",
    "with open(folder + \"/\" + csv_name, 'w', newline='') as f:\n",
    "    # Create the csv writer\n",
    "    writer = csv.writer(f)\n",
    "    # Write the header\n",
    "    writer.writerow([\"File name\", \"Num cells\"])\n",
    "    \n",
    "    for filename in os.listdir(folder):\n",
    "        # Skip the file if it's not an image\n",
    "        if not filename.endswith(\".png\") and not filename.endswith(\".jpg\"):\n",
    "            continue\n",
    "        # Construct old file name\n",
    "        source = folder + \"/\" + filename\n",
    "        # Open image\n",
    "        img = Image.open(source)\n",
    "        width, height = img.size\n",
    "    \n",
    "        # Resize\n",
    "        resized = img.resize((round(width/2), round(height/2)), Image.LANCZOS)\n",
    "        new_img_name = folder + filename.split(\".\")[0] + \"_small.png\"\n",
    "        # Save new image\n",
    "        resized.save(new_img_name)\n",
    "\n",
    "        # Open new image, creating multiple instances for plotting purposes\n",
    "        im = cv2.imread(new_img_name)\n",
    "        im_c = cv2.imread(new_img_name)\n",
    "        img = cv2.imread(new_img_name, cv2.IMREAD_GRAYSCALE)\n",
    "        \n",
    "        # Remove image\n",
    "        os.remove(new_img_name)\n",
    "\n",
    "        # Otsu's thresholding after Gaussian filtering\n",
    "        blur = cv2.GaussianBlur(img,(5,5),0)\n",
    "        ret3,th3 = cv2.threshold(blur,0,255,cv2.THRESH_BINARY+cv2.THRESH_OTSU)\n",
    "\n",
    "        # Find and draw contours\n",
    "        ret,thresh = cv2.threshold(img,0,255,cv2.THRESH_BINARY+cv2.THRESH_OTSU)\n",
    "        contours, hierarchy = cv2.findContours(thresh,cv2.RETR_TREE,cv2.CHAIN_APPROX_SIMPLE)\n",
    "        image = cv2.drawContours(im_c, contours, -1, (255,0,0), 1)\n",
    "        num_cells = len(contours)\n",
    "        \n",
    "        # Write row to csv with the file name and number of cells counted\n",
    "        writer.writerow([filename, num_cells])\n",
    "        \n",
    "# Close the csv\n",
    "f.close()"
   ]
  },
  {
   "cell_type": "code",
   "execution_count": null,
   "metadata": {},
   "outputs": [],
   "source": []
  }
 ],
 "metadata": {
  "kernelspec": {
   "display_name": "Python 3",
   "language": "python",
   "name": "python3"
  },
  "language_info": {
   "codemirror_mode": {
    "name": "ipython",
    "version": 3
   },
   "file_extension": ".py",
   "mimetype": "text/x-python",
   "name": "python",
   "nbconvert_exporter": "python",
   "pygments_lexer": "ipython3",
   "version": "3.8.3"
  }
 },
 "nbformat": 4,
 "nbformat_minor": 5
}
