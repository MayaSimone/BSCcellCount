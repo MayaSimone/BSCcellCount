{
 "cells": [
  {
   "cell_type": "markdown",
   "id": "6a0a9cfc",
   "metadata": {},
   "source": [
    "# Cell Counter\n",
    "By Zoë McGinnis"
   ]
  },
  {
   "cell_type": "markdown",
   "id": "e0b10abe",
   "metadata": {},
   "source": [
    "## Loading in your image\n",
    "The first thing we need to do is load in the pre-cropped image of the cell slide. Please put the image in the folder called \"originals\" and set `filename` to the name of the image you want to use. "
   ]
  },
  {
   "cell_type": "code",
   "execution_count": 1,
   "id": "b5a19d71",
   "metadata": {},
   "outputs": [],
   "source": [
    "# CHANGE AS NEEDED TO SAY NAME OF THE DIRECTORY\n",
    "folder = \"originals\""
   ]
  },
  {
   "cell_type": "markdown",
   "id": "0850f12c",
   "metadata": {},
   "source": [
    "## Install libraries (only need to run once)\n",
    "Run this code block to install the libraries needed to run this program. You should only have to do this the very first time you use it."
   ]
  },
  {
   "cell_type": "code",
   "execution_count": 2,
   "id": "1c1713fa",
   "metadata": {},
   "outputs": [
    {
     "name": "stdout",
     "output_type": "stream",
     "text": [
      "Requirement already satisfied: matplotlib in /opt/homebrew/lib/python3.10/site-packages (3.6.2)\n",
      "Requirement already satisfied: opencv-python in /opt/homebrew/lib/python3.10/site-packages (4.7.0.68)\n",
      "Requirement already satisfied: Pillow in /opt/homebrew/lib/python3.10/site-packages (9.3.0)\n",
      "Requirement already satisfied: contourpy>=1.0.1 in /opt/homebrew/lib/python3.10/site-packages (from matplotlib) (1.0.6)\n",
      "Requirement already satisfied: pyparsing>=2.2.1 in /opt/homebrew/lib/python3.10/site-packages (from matplotlib) (3.0.9)\n",
      "Requirement already satisfied: kiwisolver>=1.0.1 in /opt/homebrew/lib/python3.10/site-packages (from matplotlib) (1.4.4)\n",
      "Requirement already satisfied: numpy>=1.19 in /opt/homebrew/lib/python3.10/site-packages (from matplotlib) (1.23.4)\n",
      "Requirement already satisfied: fonttools>=4.22.0 in /opt/homebrew/lib/python3.10/site-packages (from matplotlib) (4.38.0)\n",
      "Requirement already satisfied: python-dateutil>=2.7 in /opt/homebrew/lib/python3.10/site-packages (from matplotlib) (2.8.2)\n",
      "Requirement already satisfied: packaging>=20.0 in /opt/homebrew/lib/python3.10/site-packages (from matplotlib) (21.3)\n",
      "Requirement already satisfied: cycler>=0.10 in /opt/homebrew/lib/python3.10/site-packages (from matplotlib) (0.11.0)\n",
      "Requirement already satisfied: six>=1.5 in /opt/homebrew/lib/python3.10/site-packages (from python-dateutil>=2.7->matplotlib) (1.16.0)\n",
      "\n",
      "\u001b[1m[\u001b[0m\u001b[34;49mnotice\u001b[0m\u001b[1;39;49m]\u001b[0m\u001b[39;49m A new release of pip is available: \u001b[0m\u001b[31;49m23.0\u001b[0m\u001b[39;49m -> \u001b[0m\u001b[32;49m23.0.1\u001b[0m\n",
      "\u001b[1m[\u001b[0m\u001b[34;49mnotice\u001b[0m\u001b[1;39;49m]\u001b[0m\u001b[39;49m To update, run: \u001b[0m\u001b[32;49mpython3.10 -m pip install --upgrade pip\u001b[0m\n",
      "Note: you may need to restart the kernel to use updated packages.\n"
     ]
    }
   ],
   "source": [
    "%pip install matplotlib opencv-python Pillow"
   ]
  },
  {
   "cell_type": "markdown",
   "id": "f4f61fb5",
   "metadata": {},
   "source": [
    "## Import necessary libraries"
   ]
  },
  {
   "cell_type": "code",
   "execution_count": 2,
   "id": "6c4a51e7",
   "metadata": {},
   "outputs": [],
   "source": [
    "import os\n",
    "import matplotlib.pyplot as plt\n",
    "import cv2\n",
    "from PIL import Image\n",
    "import csv"
   ]
  },
  {
   "cell_type": "markdown",
   "id": "17893dca",
   "metadata": {},
   "source": [
    "## Process all images in the folder"
   ]
  },
  {
   "cell_type": "code",
   "execution_count": 18,
   "id": "e2585698",
   "metadata": {},
   "outputs": [
    {
     "name": "stderr",
     "output_type": "stream",
     "text": [
      "/var/folders/px/z2sj3k8915xc72kmlt6jfhqc0000gn/T/ipykernel_31172/2904412768.py:21: DeprecationWarning: LANCZOS is deprecated and will be removed in Pillow 10 (2023-07-01). Use Resampling.LANCZOS instead.\n",
      "  resized = img.resize((round(width/2), round(height/2)), Image.LANCZOS)\n"
     ]
    }
   ],
   "source": [
    "# Name the csv\n",
    "csv_name = \"{}.csv\".format(folder)\n",
    "# Open the file in the write mode\n",
    "with open(folder + \"/\" + csv_name, 'w', newline='') as f:\n",
    "    # Create the csv writer\n",
    "    writer = csv.writer(f)\n",
    "    # Write the header\n",
    "    writer.writerow([\"File name\", \"Num cells\"])\n",
    "    \n",
    "    for filename in os.listdir(folder):\n",
    "        # Skip the file if it's not an image\n",
    "        if not filename.endswith(\".png\") and not filename.endswith(\".jpg\"):\n",
    "            continue\n",
    "        # Construct old file name\n",
    "        source = folder + \"/\" + filename\n",
    "        # Open image\n",
    "        img = Image.open(source)\n",
    "        width, height = img.size\n",
    "    \n",
    "        # Resize\n",
    "        resized = img.resize((round(width/2), round(height/2)), Image.LANCZOS)\n",
    "        new_img_name = folder + filename.split(\".\")[0] + \"_small.png\"\n",
    "        # Save new image\n",
    "        resized.save(new_img_name)\n",
    "\n",
    "        # Open new image, creating multiple instances for plotting purposes\n",
    "        im = cv2.imread(new_img_name)\n",
    "        im_c = cv2.imread(new_img_name)\n",
    "        img = cv2.imread(new_img_name, cv2.IMREAD_GRAYSCALE)\n",
    "        \n",
    "        # Remove image\n",
    "        os.remove(new_img_name)\n",
    "\n",
    "        # Otsu's thresholding after Gaussian filtering\n",
    "        blur = cv2.GaussianBlur(img,(5,5),0)\n",
    "        ret3,th3 = cv2.threshold(blur,0,255,cv2.THRESH_BINARY+cv2.THRESH_OTSU)\n",
    "\n",
    "        # Find and draw contours\n",
    "        ret,thresh = cv2.threshold(img,0,255,cv2.THRESH_BINARY+cv2.THRESH_OTSU)\n",
    "        contours, hierarchy = cv2.findContours(thresh,cv2.RETR_TREE,cv2.CHAIN_APPROX_SIMPLE)\n",
    "        image = cv2.drawContours(im_c, contours, -1, (255,0,0), 1)\n",
    "        num_cells = len(contours)\n",
    "        \n",
    "        # Write row to csv with the file name and number of cells counted\n",
    "        writer.writerow([filename, num_cells])\n",
    "        \n",
    "# Close the csv\n",
    "f.close()"
   ]
  },
  {
   "cell_type": "code",
   "execution_count": null,
   "id": "55bf660b",
   "metadata": {},
   "outputs": [],
   "source": []
  }
 ],
 "metadata": {
  "kernelspec": {
   "display_name": "Python 3 (ipykernel)",
   "language": "python",
   "name": "python3"
  },
  "language_info": {
   "codemirror_mode": {
    "name": "ipython",
    "version": 3
   },
   "file_extension": ".py",
   "mimetype": "text/x-python",
   "name": "python",
   "nbconvert_exporter": "python",
   "pygments_lexer": "ipython3",
   "version": "3.10.10"
  }
 },
 "nbformat": 4,
 "nbformat_minor": 5
}
